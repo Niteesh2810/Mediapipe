{
 "cells": [
  {
   "cell_type": "code",
   "execution_count": 3,
   "id": "b80ff3e5",
   "metadata": {},
   "outputs": [],
   "source": [
    "import cv2\n",
    "import mediapipe as mp"
   ]
  },
  {
   "cell_type": "code",
   "execution_count": 4,
   "id": "2373cfd5",
   "metadata": {},
   "outputs": [],
   "source": [
    "mp.solutions.face_detection.FaceDetection??"
   ]
  },
  {
   "cell_type": "code",
   "execution_count": 65,
   "id": "3cf18617",
   "metadata": {},
   "outputs": [],
   "source": [
    "class FaceDetection():\n",
    "    \n",
    "    def __init__(self,minDetectCon=0.5,modelSelect=0):\n",
    "        self.minDetectCon=minDetectCon\n",
    "        self.modelSelect=modelSelect\n",
    "        \n",
    "        self.mpFaceDetection=mp.solutions.face_detection\n",
    "        self.face=self.mpFaceDetection.FaceDetection(self.minDetectCon,self.modelSelect)\n",
    "    \n",
    "    def findFaces(self,img,draw=True):\n",
    "        imgRGB=cv2.cvtColor(img,cv2.COLOR_BGR2RGB)\n",
    "        results=self.face.process(imgRGB)\n",
    "        Bbox=[]\n",
    "        if results.detections:\n",
    "            for Id,detection in enumerate(results.detections):\n",
    "                #mpDraw.draw_detection(frame,detection)\n",
    "                #print(Id,detection)\n",
    "                bbox1=detection.location_data.relative_bounding_box\n",
    "                h,w,c=img.shape\n",
    "                bbox=int(bbox1.xmin*w),int(bbox1.ymin*h),int(bbox1.width*w),int(bbox1.height*h)\n",
    "                Bbox.append([Id,bbox,detection.score])\n",
    "                #print(detection.score)\n",
    "                if draw:\n",
    "                    self.fancyDraw(img,bbox)\n",
    "                    cv2.putText(img,str(int(detection.score[0]*100)),(bbox[0],bbox[1]-5),cv2.FONT_HERSHEY_COMPLEX,\n",
    "                                0.5,(0,255,0),1)\n",
    "        return img,Bbox\n",
    "    \n",
    "    def fancyDraw(self,img,bbox,length=20,thick=3,rect_thick=1):\n",
    "        x,y,w,h=bbox\n",
    "        x1,y1=x+w,y+h\n",
    "        cv2.rectangle(img,bbox,(0,255,0),rect_thick)\n",
    "        \n",
    "        cv2.line(img,(x,y),(x+length,y),(0,255,0),thick)\n",
    "        cv2.line(img,(x,y),(x,y+length),(0,255,0),thick)\n",
    "        \n",
    "        cv2.line(img,(x1,y),(x1-length,y),(0,255,0),thick)\n",
    "        cv2.line(img,(x1,y),(x1,y+length),(0,255,0),thick)\n",
    "        \n",
    "        cv2.line(img,(x,y1),(x+length,y1),(0,255,0),thick)\n",
    "        cv2.line(img,(x,y1),(x,y1-length),(0,255,0),thick)\n",
    "        \n",
    "        cv2.line(img,(x1,y1),(x1-length,y1),(0,255,0),thick)\n",
    "        cv2.line(img,(x1,y1),(x1,y1-length),(0,255,0),thick)\n",
    "        \n",
    "        "
   ]
  },
  {
   "cell_type": "code",
   "execution_count": 66,
   "id": "c9e4bd75",
   "metadata": {},
   "outputs": [],
   "source": [
    "def main():\n",
    "    cap=cv2.VideoCapture(0)\n",
    "    detector=FaceDetection()\n",
    "\n",
    "    while True:\n",
    "        ret,frame=cap.read()\n",
    "        frame,bbox=detector.findFaces(frame)\n",
    "        #print(bbox)\n",
    "        cv2.imshow('FACE',frame)\n",
    "        if cv2.waitKey(1) & 0xFF==ord('q'):\n",
    "            break\n",
    "    \n",
    "    cap.release()\n",
    "    cv2.destroyAllWindows()\n",
    "    "
   ]
  },
  {
   "cell_type": "code",
   "execution_count": 67,
   "id": "7bafb420",
   "metadata": {},
   "outputs": [],
   "source": [
    "if __name__=='__main__':\n",
    "    main()"
   ]
  },
  {
   "cell_type": "code",
   "execution_count": null,
   "id": "6301b3db",
   "metadata": {},
   "outputs": [],
   "source": []
  }
 ],
 "metadata": {
  "kernelspec": {
   "display_name": "Python 3 (ipykernel)",
   "language": "python",
   "name": "python3"
  },
  "language_info": {
   "codemirror_mode": {
    "name": "ipython",
    "version": 3
   },
   "file_extension": ".py",
   "mimetype": "text/x-python",
   "name": "python",
   "nbconvert_exporter": "python",
   "pygments_lexer": "ipython3",
   "version": "3.10.9"
  }
 },
 "nbformat": 4,
 "nbformat_minor": 5
}

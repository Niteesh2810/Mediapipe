{
 "cells": [
  {
   "cell_type": "code",
   "execution_count": 1,
   "id": "c80b3110",
   "metadata": {},
   "outputs": [],
   "source": [
    "import cv2\n",
    "import mediapipe as mp\n",
    "import time\n",
    "import math"
   ]
  },
  {
   "cell_type": "code",
   "execution_count": 6,
   "id": "b619397f",
   "metadata": {},
   "outputs": [],
   "source": [
    "mp.solutions.pose.Pose??"
   ]
  },
  {
   "cell_type": "code",
   "execution_count": 7,
   "id": "178b02f7",
   "metadata": {},
   "outputs": [],
   "source": [
    "class Posture():\n",
    "    def __init__(self,staticImgMode=False,modelComp=1,smoothLms=True,enableSegment=False,\n",
    "                                smoothSegment=True,minDetectConf=0.5,minTrackingConf=0.5):\n",
    "        self.staticImgMode=False\n",
    "        self.modelComp=1\n",
    "        self.smoothLms=True\n",
    "        self.enablSegment=False\n",
    "        self.smoothSegment=True\n",
    "        self.minDetectConf=0.5\n",
    "        self.minTrackingConf=0.5\n",
    "        self.mpPose=mp.solutions.pose\n",
    "        self.pose=self.mpPose.Pose()\n",
    "        self.mpDraw=mp.solutions.drawing_utils\n",
    "    \n",
    "    def findPosture(self,img,draw=True):\n",
    "        imgRGB=cv2.cvtColor(img,cv2.COLOR_BGR2RGB)      \n",
    "        self.results=self.pose.process(imgRGB)\n",
    "        lmList=[]\n",
    "        if self.results.pose_landmarks:\n",
    "            for Id,lm in enumerate(self.results.pose_landmarks.landmark):\n",
    "                h,w,c=img.shape\n",
    "                x,y=int(lm.x*w),int(lm.y*h)\n",
    "                #print(x,y)\n",
    "                lmList.append([Id,x,y])\n",
    "            if draw:\n",
    "                self.mpDraw.draw_landmarks(img,self.results.pose_landmarks,self.mpPose.POSE_CONNECTIONS)\n",
    "        \n",
    "        return lmList\n",
    "    \n",
    "        \n",
    "    def findAngle(self,img,a,b,c,draw=True):\n",
    "        x1,y1=a[1:]\n",
    "        x2,y2=b[1:]\n",
    "        x3,y3=c[1:]\n",
    "        angle=math.degrees(math.atan2(y3-y2,x3-x2)-math.atan2(y1-y2,x1-x2))\n",
    "        if angle<0:\n",
    "            angle+=360\n",
    "        if draw:\n",
    "            cv2.circle(img,(x1,y1),7,(0,0,255),-1)\n",
    "            cv2.circle(img,(x1,y1),12,(0,0,255),1)\n",
    "            \n",
    "            cv2.circle(img,(x2,y2),7,(0,0,255),-1)\n",
    "            cv2.circle(img,(x2,y2),11,(0,0,255),1)\n",
    "            \n",
    "            cv2.circle(img,(x3,y3),7,(0,0,255),-1)\n",
    "            cv2.circle(img,(x3,y3),11,(0,0,255),1)\n",
    "            \n",
    "            cv2.line(img,(x1,y1),(x2,y2),(84, 248, 136),3)\n",
    "            cv2.line(img,(x2,y2),(x3,y3),(84, 248, 136),3)\n",
    "        return angle\n",
    "    \n",
    "    def findCount(self,img,per,flag=0,count=0):\n",
    "        if per==100 and flag==0:\n",
    "            flag=1\n",
    "        elif per==0 and flag==1:\n",
    "            flag=0\n",
    "            count+=1\n",
    "            \n",
    "        return flag,count"
   ]
  },
  {
   "cell_type": "code",
   "execution_count": 3,
   "id": "a69d0a95",
   "metadata": {},
   "outputs": [],
   "source": [
    "def main():\n",
    "    cap=cv2.VideoCapture('weights.mp4')\n",
    "    pTime=0\n",
    "    cTime=0\n",
    "    p=Posture()\n",
    "    while cap.isOpened():\n",
    "        ret,frame=cap.read()\n",
    "        img=cv2.resize(frame,(640,480))\n",
    "        cTime=time.time()\n",
    "        fps=1/(cTime-pTime)\n",
    "        pTime=cTime\n",
    "        p.findPosture(img)\n",
    "        cv2.putText(img,str(int(fps)),(50,250),cv2.FONT_HERSHEY_PLAIN,5,(0,0,255),2)\n",
    "        cv2.imshow('Posture',img)\n",
    "        if cv2.waitKey(1) & 0xFF==ord('q'):\n",
    "            break\n",
    "    cap.release()\n",
    "    cv2.destroyAllWindows()"
   ]
  },
  {
   "cell_type": "code",
   "execution_count": 14,
   "id": "77486c28",
   "metadata": {},
   "outputs": [],
   "source": [
    "if __name__=='__main__':\n",
    "    main()"
   ]
  },
  {
   "cell_type": "code",
   "execution_count": null,
   "id": "f89ad9ce",
   "metadata": {},
   "outputs": [],
   "source": []
  }
 ],
 "metadata": {
  "kernelspec": {
   "display_name": "Python 3 (ipykernel)",
   "language": "python",
   "name": "python3"
  },
  "language_info": {
   "codemirror_mode": {
    "name": "ipython",
    "version": 3
   },
   "file_extension": ".py",
   "mimetype": "text/x-python",
   "name": "python",
   "nbconvert_exporter": "python",
   "pygments_lexer": "ipython3",
   "version": "3.10.9"
  }
 },
 "nbformat": 4,
 "nbformat_minor": 5
}

{
 "cells": [
  {
   "cell_type": "code",
   "execution_count": 1,
   "id": "be78208a",
   "metadata": {},
   "outputs": [
    {
     "name": "stdout",
     "output_type": "stream",
     "text": [
      "importing Jupyter notebook from Posture Module.ipynb\n"
     ]
    }
   ],
   "source": [
    "import cv2\n",
    "import mediapipe as mp\n",
    "import time\n",
    "import import_ipynb\n",
    "import Posture_Module as pm\n",
    "import numpy as np"
   ]
  },
  {
   "cell_type": "code",
   "execution_count": 2,
   "id": "b1ee8cd1",
   "metadata": {},
   "outputs": [],
   "source": [
    "pos=pm.Posture()"
   ]
  },
  {
   "cell_type": "code",
   "execution_count": 36,
   "id": "2fd12ef6",
   "metadata": {},
   "outputs": [],
   "source": [
    "cap=cv2.VideoCapture('weights.mp4')\n",
    "flag=0\n",
    "count=0\n",
    "\n",
    "while cap.isOpened():\n",
    "    ret,frame=cap.read()\n",
    "    img=cv2.resize(frame,(1080,720))\n",
    "    lmList=pos.findPosture(img,draw=False)\n",
    "    angle=pos.findAngle(img,lmList[11],lmList[13],lmList[15])\n",
    "    per=np.interp(angle,(200,335),(0,100))\n",
    "    #print(angle,per)\n",
    "    \n",
    "    #126, 252, 247\n",
    "    bar_per=np.interp(per,(0,100),(600,200))\n",
    "    cv2.rectangle(img,(100,200),(130,600),(152, 246, 243),2)\n",
    "    cv2.rectangle(img,(100,int(bar_per)),(130,600),(152, 246, 243),-1)\n",
    "    cv2.putText(img,str(int(per))+\"%\",(105,625),cv2.FONT_HERSHEY_COMPLEX,0.6,(140, 255, 0),2)\n",
    "    \n",
    "    flag,count=pos.findCount(img,int(per),flag,count)\n",
    "    #print(flag,count)\n",
    "    cv2.putText(img,\"COUNT: \"+str(count),(50,80),cv2.FONT_HERSHEY_COMPLEX,1.2,(95, 59, 1),4)#255, 142, 44\n",
    "    \n",
    "    \n",
    "    #cv2.putText(img,str(cv2.CAP_PROP_FPS),(50,50),cv2.FONT_HERSHEY_COMPLEX,0.5,(0,255,0),2)\n",
    "    cv2.imshow('POSTURE',img)\n",
    "    if cv2.waitKey(1) & 0xFF==ord('q'):\n",
    "        break\n",
    "        \n",
    "cap.release()\n",
    "cv2.destroyAllWindows()"
   ]
  }
 ],
 "metadata": {
  "kernelspec": {
   "display_name": "Python 3 (ipykernel)",
   "language": "python",
   "name": "python3"
  },
  "language_info": {
   "codemirror_mode": {
    "name": "ipython",
    "version": 3
   },
   "file_extension": ".py",
   "mimetype": "text/x-python",
   "name": "python",
   "nbconvert_exporter": "python",
   "pygments_lexer": "ipython3",
   "version": "3.10.9"
  }
 },
 "nbformat": 4,
 "nbformat_minor": 5
}

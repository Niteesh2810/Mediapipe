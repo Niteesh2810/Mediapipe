{
 "cells": [
  {
   "cell_type": "code",
   "execution_count": 1,
   "id": "920a4672",
   "metadata": {},
   "outputs": [],
   "source": [
    "import cv2\n",
    "import mediapipe as mp"
   ]
  },
  {
   "cell_type": "code",
   "execution_count": 23,
   "id": "716349fe",
   "metadata": {},
   "outputs": [],
   "source": [
    "mp.solutions.face_mesh.FaceMesh??"
   ]
  },
  {
   "cell_type": "code",
   "execution_count": 34,
   "id": "faac82f4",
   "metadata": {},
   "outputs": [],
   "source": [
    "class FaceMesh():\n",
    "    \n",
    "    def __init__(self,staticImgMode=False,maxFaces=2,refineLandmarks=True,minDetectConf=0.5,minTrackConf=0.5):\n",
    "        self.staticImgMode=staticImgMode\n",
    "        self.maxFaces=maxFaces\n",
    "        self.refineLandmarks=refineLandmarks\n",
    "        self.minDetectConf=minDetectConf\n",
    "        self.minTrackConf=minTrackConf\n",
    "        \n",
    "        self.mpDraw=mp.solutions.drawing_utils\n",
    "        self.mpFaceMesh=mp.solutions.face_mesh\n",
    "        self.face=self.mpFaceMesh.FaceMesh(self.staticImgMode,self.maxFaces,\n",
    "                                      self.refineLandmarks,self.minDetectConf,self.minTrackConf)\n",
    "        self.drawSpec=self.mpDraw.DrawingSpec(thickness=1,circle_radius=1)\n",
    "        \n",
    "    def mesh(self,img,draw=True):\n",
    "        imgRGB=cv2.cvtColor(img,cv2.COLOR_BGR2RGB)\n",
    "        results=self.face.process(imgRGB)\n",
    "        face=[]\n",
    "        if results.multi_face_landmarks:\n",
    "            for faceLms in results.multi_face_landmarks:\n",
    "                if draw:\n",
    "                    self.mpDraw.draw_landmarks(img,faceLms,self.mpFaceMesh.FACEMESH_CONTOURS,self.drawSpec,self.drawSpec)\n",
    "                for Id,lm in enumerate(faceLms.landmark):\n",
    "                    h,w,c=img.shape\n",
    "                    x,y=int(lm.x*w),int(lm.y*h)\n",
    "                face.append([Id,x,y])\n",
    "                \n",
    "        return img,face"
   ]
  },
  {
   "cell_type": "code",
   "execution_count": 35,
   "id": "ce661c33",
   "metadata": {},
   "outputs": [],
   "source": [
    "def main():\n",
    "    cap=cv2.VideoCapture(0)\n",
    "    facemesh=FaceMesh()\n",
    "    while True:\n",
    "        ret,frame=cap.read()\n",
    "        frame,face=facemesh.mesh(frame)\n",
    "        #if len(face)!=0:\n",
    "            #print(len(face))                    # Will give the no of faces present \n",
    "        cv2.imshow('FACE MESH',frame)\n",
    "        if cv2.waitKey(1) & 0xFF==ord('q'):\n",
    "            break\n",
    "\n",
    "    cap.release()\n",
    "    cv2.destroyAllWindows()"
   ]
  },
  {
   "cell_type": "code",
   "execution_count": 33,
   "id": "8e50244f",
   "metadata": {},
   "outputs": [],
   "source": [
    "if __name__=='__main__':\n",
    "    main()"
   ]
  },
  {
   "cell_type": "code",
   "execution_count": null,
   "id": "7b949b4f",
   "metadata": {},
   "outputs": [],
   "source": []
  }
 ],
 "metadata": {
  "kernelspec": {
   "display_name": "Python 3 (ipykernel)",
   "language": "python",
   "name": "python3"
  },
  "language_info": {
   "codemirror_mode": {
    "name": "ipython",
    "version": 3
   },
   "file_extension": ".py",
   "mimetype": "text/x-python",
   "name": "python",
   "nbconvert_exporter": "python",
   "pygments_lexer": "ipython3",
   "version": "3.10.9"
  }
 },
 "nbformat": 4,
 "nbformat_minor": 5
}

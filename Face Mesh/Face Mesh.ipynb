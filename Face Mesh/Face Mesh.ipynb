{
 "cells": [
  {
   "cell_type": "code",
   "execution_count": 2,
   "id": "2385e17a",
   "metadata": {},
   "outputs": [],
   "source": [
    "import cv2\n",
    "import mediapipe as mp"
   ]
  },
  {
   "cell_type": "code",
   "execution_count": 3,
   "id": "aafe8a5b",
   "metadata": {},
   "outputs": [],
   "source": [
    "mpDraw=mp.solutions.drawing_utils\n",
    "mpFaceMesh=mp.solutions.face_mesh\n",
    "faceMesh=mpFaceMesh.FaceMesh()\n",
    "drawSpec=mpDraw.DrawingSpec(thickness=1,circle_radius=1)"
   ]
  },
  {
   "cell_type": "code",
   "execution_count": 4,
   "id": "62e0ca77",
   "metadata": {},
   "outputs": [],
   "source": [
    "mp.solutions.face_mesh.FaceMesh??"
   ]
  },
  {
   "cell_type": "code",
   "execution_count": null,
   "id": "9eb13fba",
   "metadata": {},
   "outputs": [],
   "source": [
    "cap=cv2.VideoCapture(0)\n",
    "\n",
    "while True:\n",
    "    ret,frame=cap.read()\n",
    "    imgRGB=cv2.cvtColor(frame,cv2.COLOR_BGR2RGB)\n",
    "    results=faceMesh.process(imgRGB)\n",
    "    if results.multi_face_landmarks:\n",
    "        for faceLms in results.multi_face_landmarks:\n",
    "            mpDraw.draw_landmarks(frame,faceLms,connections=mpFaceMesh.FACEMESH_CONTOURS,landmark_drawing_spec=drawSpec,connection_drawing_spec=drawSpec)\n",
    "            for Id,lm in enumerate(faceLms.landmark):\n",
    "                    h,w,c=img.shape\n",
    "                    x,y=int(lm.x*w),int(lm.y*h)\n",
    "                    #print(Id,x,y)\n",
    "    cv2.imshow('FACE MESH',frame)\n",
    "    if cv2.waitKey(1) & 0xFF==ord('q'):\n",
    "        break\n",
    "\n",
    "cap.release()\n",
    "cv2.destroyAllWindows()"
   ]
  },
  {
   "cell_type": "code",
   "execution_count": null,
   "id": "48badbc0",
   "metadata": {},
   "outputs": [],
   "source": []
  }
 ],
 "metadata": {
  "kernelspec": {
   "display_name": "Python 3 (ipykernel)",
   "language": "python",
   "name": "python3"
  },
  "language_info": {
   "codemirror_mode": {
    "name": "ipython",
    "version": 3
   },
   "file_extension": ".py",
   "mimetype": "text/x-python",
   "name": "python",
   "nbconvert_exporter": "python",
   "pygments_lexer": "ipython3",
   "version": "3.10.9"
  }
 },
 "nbformat": 4,
 "nbformat_minor": 5
}

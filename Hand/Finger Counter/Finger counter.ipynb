{
 "cells": [
  {
   "cell_type": "code",
   "execution_count": 1,
   "id": "9b93e0a9",
   "metadata": {},
   "outputs": [
    {
     "name": "stdout",
     "output_type": "stream",
     "text": [
      "importing Jupyter notebook from hand landmarks module.ipynb\n"
     ]
    }
   ],
   "source": [
    "import cv2 \n",
    "import import_ipynb\n",
    "import hand_landmarks_module as hlm\n",
    "import time"
   ]
  },
  {
   "cell_type": "code",
   "execution_count": 2,
   "id": "d1825ff4",
   "metadata": {},
   "outputs": [],
   "source": [
    "hand=hlm.handDetector()"
   ]
  },
  {
   "cell_type": "code",
   "execution_count": 13,
   "id": "d7374a7a",
   "metadata": {},
   "outputs": [],
   "source": [
    "cap=cv2.VideoCapture(0)\n",
    "\n",
    "while cap.isOpened():\n",
    "    ret,frame=cap.read()\n",
    "    #print(frame.shape)\n",
    "    hand.findHand(frame)\n",
    "    landmark_list=hand.findPosition(frame,draw=False)\n",
    "    fingTips=[4,8,12,16,20]\n",
    "    \n",
    "    if len(landmark_list)!=0:\n",
    "        fingers=[]\n",
    "        \n",
    "        # To check if thumb is opened or not \n",
    "        # 1--->opened    0---->closed\n",
    "        if landmark_list[fingTips[0]][1]>landmark_list[fingTips[0]-1][1]:\n",
    "            fingers.append(1)\n",
    "        else:\n",
    "            fingers.append(0)\n",
    "            \n",
    "        # For other four fingers\n",
    "        for i in range(1,5):\n",
    "            if landmark_list[fingTips[i]][2]<landmark_list[fingTips[i]-2][2]:\n",
    "                fingers.append(1)\n",
    "            else:\n",
    "                fingers.append(0)\n",
    "                \n",
    "        #print(fingers)\n",
    "        \n",
    "        \n",
    "        # Getting the count of the fingers that are open\n",
    "        totalFing=fingers.count(1)\n",
    "        cv2.putText(frame,str(totalFing),(25,100),2,cv2.FONT_HERSHEY_COMPLEX,(96, 75, 253),4)\n",
    "        \n",
    "    cv2.imshow('FINGER COUNT',frame)\n",
    "    if cv2.waitKey(1) & 0xFF==ord('q'):\n",
    "        break\n",
    "cap.release()\n",
    "cv2.destroyAllWindows()"
   ]
  },
  {
   "cell_type": "code",
   "execution_count": null,
   "id": "53c7585a",
   "metadata": {},
   "outputs": [],
   "source": [
    "q"
   ]
  }
 ],
 "metadata": {
  "kernelspec": {
   "display_name": "Python 3 (ipykernel)",
   "language": "python",
   "name": "python3"
  },
  "language_info": {
   "codemirror_mode": {
    "name": "ipython",
    "version": 3
   },
   "file_extension": ".py",
   "mimetype": "text/x-python",
   "name": "python",
   "nbconvert_exporter": "python",
   "pygments_lexer": "ipython3",
   "version": "3.10.9"
  }
 },
 "nbformat": 4,
 "nbformat_minor": 5
}

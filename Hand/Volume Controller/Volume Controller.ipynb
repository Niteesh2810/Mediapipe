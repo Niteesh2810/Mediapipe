{
 "cells": [
  {
   "cell_type": "markdown",
   "id": "f00b13d5",
   "metadata": {},
   "source": [
    "Need opencv and mediapipe libraires<br>\n",
    "To install:<br>\n",
    "!pip install opencv-python<br>\n",
    "!pip install mediapipe"
   ]
  },
  {
   "cell_type": "code",
   "execution_count": 3,
   "id": "eb46274a",
   "metadata": {
    "collapsed": true
   },
   "outputs": [
    {
     "name": "stdout",
     "output_type": "stream",
     "text": [
      "Collecting import-ipynb\n",
      "  Downloading import_ipynb-0.1.4-py3-none-any.whl (4.1 kB)\n",
      "Requirement already satisfied: nbformat in c:\\users\\niteesh\\anaconda3\\lib\\site-packages (from import-ipynb) (5.7.0)\n",
      "Requirement already satisfied: IPython in c:\\users\\niteesh\\appdata\\roaming\\python\\python310\\site-packages (from import-ipynb) (8.9.0)\n",
      "Requirement already satisfied: traitlets>=5 in c:\\users\\niteesh\\appdata\\roaming\\python\\python310\\site-packages (from IPython->import-ipynb) (5.9.0)\n",
      "Requirement already satisfied: pygments>=2.4.0 in c:\\users\\niteesh\\appdata\\roaming\\python\\python310\\site-packages (from IPython->import-ipynb) (2.14.0)\n",
      "Requirement already satisfied: colorama in c:\\users\\niteesh\\appdata\\roaming\\python\\python310\\site-packages (from IPython->import-ipynb) (0.4.6)\n",
      "Requirement already satisfied: jedi>=0.16 in c:\\users\\niteesh\\appdata\\roaming\\python\\python310\\site-packages (from IPython->import-ipynb) (0.18.2)\n",
      "Requirement already satisfied: stack-data in c:\\users\\niteesh\\appdata\\roaming\\python\\python310\\site-packages (from IPython->import-ipynb) (0.6.2)\n",
      "Requirement already satisfied: pickleshare in c:\\users\\niteesh\\appdata\\roaming\\python\\python310\\site-packages (from IPython->import-ipynb) (0.7.5)\n",
      "Requirement already satisfied: matplotlib-inline in c:\\users\\niteesh\\appdata\\roaming\\python\\python310\\site-packages (from IPython->import-ipynb) (0.1.6)\n",
      "Requirement already satisfied: backcall in c:\\users\\niteesh\\appdata\\roaming\\python\\python310\\site-packages (from IPython->import-ipynb) (0.2.0)\n",
      "Requirement already satisfied: decorator in c:\\users\\niteesh\\appdata\\roaming\\python\\python310\\site-packages (from IPython->import-ipynb) (5.1.1)\n",
      "Requirement already satisfied: prompt-toolkit<3.1.0,>=3.0.30 in c:\\users\\niteesh\\appdata\\roaming\\python\\python310\\site-packages (from IPython->import-ipynb) (3.0.36)\n",
      "Requirement already satisfied: fastjsonschema in c:\\users\\niteesh\\anaconda3\\lib\\site-packages (from nbformat->import-ipynb) (2.16.2)\n",
      "Requirement already satisfied: jupyter-core in c:\\users\\niteesh\\appdata\\roaming\\python\\python310\\site-packages (from nbformat->import-ipynb) (5.2.0)\n",
      "Requirement already satisfied: jsonschema>=2.6 in c:\\users\\niteesh\\anaconda3\\lib\\site-packages (from nbformat->import-ipynb) (4.17.3)\n",
      "Requirement already satisfied: parso<0.9.0,>=0.8.0 in c:\\users\\niteesh\\appdata\\roaming\\python\\python310\\site-packages (from jedi>=0.16->IPython->import-ipynb) (0.8.3)\n",
      "Requirement already satisfied: pyrsistent!=0.17.0,!=0.17.1,!=0.17.2,>=0.14.0 in c:\\users\\niteesh\\anaconda3\\lib\\site-packages (from jsonschema>=2.6->nbformat->import-ipynb) (0.18.0)\n",
      "Requirement already satisfied: attrs>=17.4.0 in c:\\users\\niteesh\\anaconda3\\lib\\site-packages (from jsonschema>=2.6->nbformat->import-ipynb) (22.1.0)\n",
      "Requirement already satisfied: wcwidth in c:\\users\\niteesh\\appdata\\roaming\\python\\python310\\site-packages (from prompt-toolkit<3.1.0,>=3.0.30->IPython->import-ipynb) (0.2.6)\n",
      "Requirement already satisfied: platformdirs>=2.5 in c:\\users\\niteesh\\appdata\\roaming\\python\\python310\\site-packages (from jupyter-core->nbformat->import-ipynb) (2.6.2)\n",
      "Requirement already satisfied: pywin32>=1.0 in c:\\users\\niteesh\\appdata\\roaming\\python\\python310\\site-packages (from jupyter-core->nbformat->import-ipynb) (305)\n",
      "Requirement already satisfied: pure-eval in c:\\users\\niteesh\\appdata\\roaming\\python\\python310\\site-packages (from stack-data->IPython->import-ipynb) (0.2.2)\n",
      "Requirement already satisfied: asttokens>=2.1.0 in c:\\users\\niteesh\\appdata\\roaming\\python\\python310\\site-packages (from stack-data->IPython->import-ipynb) (2.2.1)\n",
      "Requirement already satisfied: executing>=1.2.0 in c:\\users\\niteesh\\appdata\\roaming\\python\\python310\\site-packages (from stack-data->IPython->import-ipynb) (1.2.0)\n",
      "Requirement already satisfied: six in c:\\users\\niteesh\\appdata\\roaming\\python\\python310\\site-packages (from asttokens>=2.1.0->stack-data->IPython->import-ipynb) (1.16.0)\n",
      "Installing collected packages: import-ipynb\n",
      "Successfully installed import-ipynb-0.1.4\n"
     ]
    },
    {
     "name": "stderr",
     "output_type": "stream",
     "text": [
      "WARNING: Ignoring invalid distribution -pencv-python-headless (c:\\users\\niteesh\\appdata\\roaming\\python\\python310\\site-packages)\n",
      "WARNING: Ignoring invalid distribution -atplotlib (c:\\users\\niteesh\\appdata\\roaming\\python\\python310\\site-packages)\n",
      "WARNING: Ignoring invalid distribution -pencv-python-headless (c:\\users\\niteesh\\appdata\\roaming\\python\\python310\\site-packages)\n",
      "WARNING: Ignoring invalid distribution -atplotlib (c:\\users\\niteesh\\appdata\\roaming\\python\\python310\\site-packages)\n",
      "WARNING: Ignoring invalid distribution -pencv-python-headless (c:\\users\\niteesh\\appdata\\roaming\\python\\python310\\site-packages)\n",
      "WARNING: Ignoring invalid distribution -atplotlib (c:\\users\\niteesh\\appdata\\roaming\\python\\python310\\site-packages)\n",
      "WARNING: Ignoring invalid distribution -pencv-python-headless (c:\\users\\niteesh\\appdata\\roaming\\python\\python310\\site-packages)\n",
      "WARNING: Ignoring invalid distribution -atplotlib (c:\\users\\niteesh\\appdata\\roaming\\python\\python310\\site-packages)\n",
      "WARNING: Ignoring invalid distribution -pencv-python-headless (c:\\users\\niteesh\\appdata\\roaming\\python\\python310\\site-packages)\n",
      "WARNING: Ignoring invalid distribution -atplotlib (c:\\users\\niteesh\\appdata\\roaming\\python\\python310\\site-packages)\n",
      "WARNING: Ignoring invalid distribution -pencv-python-headless (c:\\users\\niteesh\\appdata\\roaming\\python\\python310\\site-packages)\n",
      "WARNING: Ignoring invalid distribution -atplotlib (c:\\users\\niteesh\\appdata\\roaming\\python\\python310\\site-packages)\n"
     ]
    }
   ],
   "source": [
    "!pip install import-ipynb"
   ]
  },
  {
   "cell_type": "code",
   "execution_count": 19,
   "id": "f5541172",
   "metadata": {},
   "outputs": [
    {
     "name": "stdout",
     "output_type": "stream",
     "text": [
      "Collecting pycaw\n",
      "  Downloading pycaw-20230407-py3-none-any.whl (24 kB)\n",
      "Requirement already satisfied: psutil in c:\\users\\niteesh\\appdata\\roaming\\python\\python310\\site-packages (from pycaw) (5.9.4)\n",
      "Collecting comtypes\n",
      "  Downloading comtypes-1.2.0-py2.py3-none-any.whl (184 kB)\n",
      "     -------------------------------------- 184.3/184.3 kB 2.8 MB/s eta 0:00:00\n",
      "Installing collected packages: comtypes, pycaw\n",
      "Successfully installed comtypes-1.2.0 pycaw-20230407\n"
     ]
    },
    {
     "name": "stderr",
     "output_type": "stream",
     "text": [
      "WARNING: Ignoring invalid distribution -pencv-python-headless (c:\\users\\niteesh\\appdata\\roaming\\python\\python310\\site-packages)\n",
      "WARNING: Ignoring invalid distribution -atplotlib (c:\\users\\niteesh\\appdata\\roaming\\python\\python310\\site-packages)\n",
      "WARNING: Ignoring invalid distribution -pencv-python-headless (c:\\users\\niteesh\\appdata\\roaming\\python\\python310\\site-packages)\n",
      "WARNING: Ignoring invalid distribution -atplotlib (c:\\users\\niteesh\\appdata\\roaming\\python\\python310\\site-packages)\n",
      "WARNING: Ignoring invalid distribution -pencv-python-headless (c:\\users\\niteesh\\appdata\\roaming\\python\\python310\\site-packages)\n",
      "WARNING: Ignoring invalid distribution -atplotlib (c:\\users\\niteesh\\appdata\\roaming\\python\\python310\\site-packages)\n",
      "WARNING: Ignoring invalid distribution -pencv-python-headless (c:\\users\\niteesh\\appdata\\roaming\\python\\python310\\site-packages)\n",
      "WARNING: Ignoring invalid distribution -atplotlib (c:\\users\\niteesh\\appdata\\roaming\\python\\python310\\site-packages)\n",
      "WARNING: Ignoring invalid distribution -pencv-python-headless (c:\\users\\niteesh\\appdata\\roaming\\python\\python310\\site-packages)\n",
      "WARNING: Ignoring invalid distribution -atplotlib (c:\\users\\niteesh\\appdata\\roaming\\python\\python310\\site-packages)\n",
      "WARNING: Ignoring invalid distribution -pencv-python-headless (c:\\users\\niteesh\\appdata\\roaming\\python\\python310\\site-packages)\n",
      "WARNING: Ignoring invalid distribution -atplotlib (c:\\users\\niteesh\\appdata\\roaming\\python\\python310\\site-packages)\n"
     ]
    }
   ],
   "source": [
    "!pip install pycaw"
   ]
  },
  {
   "cell_type": "code",
   "execution_count": 2,
   "id": "abf0d96b",
   "metadata": {},
   "outputs": [
    {
     "name": "stdout",
     "output_type": "stream",
     "text": [
      "importing Jupyter notebook from hand landmarks module.ipynb\n"
     ]
    }
   ],
   "source": [
    "import cv2\n",
    "import mediapipe as mp\n",
    "import numpy as np\n",
    "import import_ipynb\n",
    "import hand_landmarks_module as hlm\n",
    "import time\n",
    "import math\n",
    "\n",
    "from comtypes import CLSCTX_ALL\n",
    "from pycaw.pycaw import AudioUtilities, IAudioEndpointVolume"
   ]
  },
  {
   "cell_type": "code",
   "execution_count": 3,
   "id": "77e6e243",
   "metadata": {},
   "outputs": [],
   "source": [
    "#Creating an object of a class\n",
    "hand=hlm.handDetector()"
   ]
  },
  {
   "cell_type": "code",
   "execution_count": 4,
   "id": "d2a62127",
   "metadata": {},
   "outputs": [
    {
     "name": "stdout",
     "output_type": "stream",
     "text": [
      "(-96.0, 0.0, 0.125)\n"
     ]
    }
   ],
   "source": [
    "devices = AudioUtilities.GetSpeakers()\n",
    "interface = devices.Activate(\n",
    "    IAudioEndpointVolume._iid_, CLSCTX_ALL, None)\n",
    "volume = interface.QueryInterface(IAudioEndpointVolume)\n",
    "print(volume.GetVolumeRange())\n"
   ]
  },
  {
   "cell_type": "code",
   "execution_count": 5,
   "id": "19a1d427",
   "metadata": {},
   "outputs": [],
   "source": [
    "minVol,maxVol=volume.GetVolumeRange()[0],volume.GetVolumeRange()[1]"
   ]
  },
  {
   "cell_type": "code",
   "execution_count": 44,
   "id": "a01453b5",
   "metadata": {},
   "outputs": [],
   "source": [
    "cap=cv2.VideoCapture(0)\n",
    "\n",
    "pTime=0\n",
    "\n",
    "while True:\n",
    "    ret,frame=cap.read()\n",
    "    hand.findHand(frame)\n",
    "    landmark_li=hand.findPosition(frame,draw=False)\n",
    "    if len(landmark_li)!=0:\n",
    "        #print(landmark_li)\n",
    "        x1,y1=landmark_li[4][1],landmark_li[4][2]          #Thumb Tip x,y coordinates\n",
    "        x2,y2=landmark_li[8][1],landmark_li[8][2]          #Index Tip x,y coordinates\n",
    "        \n",
    "        # Drawing circles on these two tips\n",
    "        cv2.circle(frame,(x1,y1),12,(196, 255, 151),-1)\n",
    "        cv2.circle(frame,(x2,y2),12,(196, 255, 151),-1)\n",
    "        \n",
    "        \n",
    "        # Drawing a line between the these two points\n",
    "        cv2.line(frame,(x1,y1),(x2,y2),(196, 255, 151),4)\n",
    "        \n",
    "        \n",
    "        # Calculating the distance between these two which is later on used to adjust the volume \n",
    "        # Can also use math.hypot( x2-x1, y2-y1 )\n",
    "        dist=math.sqrt(((x2-x1)**2)+(y2-y1)**2)                 \n",
    "        \n",
    "        \n",
    "        # Distance range---> 30-180\n",
    "        # Converting this range into the range which will be able to control the volume on our system\n",
    "        # Setting the value in vol as the system volume\n",
    "        vol=np.interp(dist,[30,180],[minVol,maxVol])                   # Returns single value\n",
    "        volume.SetMasterVolumeLevel(vol, None)\n",
    "        \n",
    "        \n",
    "        # To convert the vol variable to actual volume range(0-100)\n",
    "        barVol=np.interp(vol,[minVol,maxVol],[0,100])\n",
    "        \n",
    "        # To get the height of the rectangle to be filled so that we can draw it as a bar\n",
    "        bar=np.interp(vol,[minVol,maxVol],[260,90])\n",
    "        \n",
    "        #To create bar volume\n",
    "        cv2.rectangle(frame,(90,260),(60,int(bar)),(255, 253, 115),-1)\n",
    "        \n",
    "        \n",
    "    ''' After incr/decr the volume, the final value of barVol variable is still printed even after taking the hand away from the \n",
    "     webcam. Ex: If 45 was the last value in barVol, when the hand is moved away from the webcam it shows 45 instead\n",
    "     of 0. So we do this:'''\n",
    "    if len(landmark_li)==0:\n",
    "        barVol=0\n",
    "        \n",
    "    # To print the outer rectangle of the bar\n",
    "    cv2.rectangle(frame,(60,90),(90,260),(255, 253, 115),3)\n",
    "    \n",
    "    #To print the volume percentage\n",
    "    cv2.putText(frame,str(int(barVol))+\"%\",(62,295),cv2.FONT_HERSHEY_COMPLEX,0.7,(255, 253, 115),2)\n",
    "    \n",
    "    # To print the fps(OPTIONAL)\n",
    "    cTime=time.time()\n",
    "    fps=1/(cTime-pTime)\n",
    "    pTime=cTime\n",
    "    cv2.putText(frame,'FPS: '+str(int(fps)),(40,50),cv2.FONT_HERSHEY_COMPLEX,0.6,(0,255,0),2)\n",
    "    \n",
    "    cv2.imshow('VOLUME CONTROLLER',frame)\n",
    "    if cv2.waitKey(1) & 0xFF==ord('q'):\n",
    "        break\n",
    "        \n",
    "        \n",
    "cap.release()\n",
    "cv2.destroyAllWindows()"
   ]
  },
  {
   "cell_type": "markdown",
   "id": "71ebcd46",
   "metadata": {},
   "source": [
    "EXTRAS: Doesn't work with bluetooth connected"
   ]
  }
 ],
 "metadata": {
  "kernelspec": {
   "display_name": "Python 3 (ipykernel)",
   "language": "python",
   "name": "python3"
  },
  "language_info": {
   "codemirror_mode": {
    "name": "ipython",
    "version": 3
   },
   "file_extension": ".py",
   "mimetype": "text/x-python",
   "name": "python",
   "nbconvert_exporter": "python",
   "pygments_lexer": "ipython3",
   "version": "3.10.9"
  }
 },
 "nbformat": 4,
 "nbformat_minor": 5
}
